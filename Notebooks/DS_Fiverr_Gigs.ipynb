{
 "cells": [
  {
   "cell_type": "code",
   "execution_count": 8,
   "id": "fa16c503",
   "metadata": {},
   "outputs": [],
   "source": [
    "from selenium.webdriver import Firefox\n",
    "from selenium.webdriver.common.keys import Keys\n",
    "from selenium.webdriver.common.by import By\n",
    "from selenium.webdriver.common.action_chains import ActionChains\n",
    "from IPython.display import clear_output\n",
    "\n",
    "from bs4 import BeautifulSoup\n",
    "import time"
   ]
  },
  {
   "cell_type": "markdown",
   "id": "93a2fb04",
   "metadata": {},
   "source": [
    "## 1. Requesting data\n",
    "\n",
    "### 1.1 get seller URLs"
   ]
  },
  {
   "cell_type": "code",
   "execution_count": null,
   "id": "9045197b",
   "metadata": {},
   "outputs": [],
   "source": [
    "driver = Firefox(executable_path=r\"geckodriver.exe\")"
   ]
  },
  {
   "cell_type": "code",
   "execution_count": null,
   "id": "cb14ce85",
   "metadata": {},
   "outputs": [],
   "source": [
    "url = \"https://www.fiverr.com/?source=top_nav\"\n",
    "driver.get(url)"
   ]
  },
  {
   "cell_type": "code",
   "execution_count": null,
   "id": "4c4ba9e4",
   "metadata": {},
   "outputs": [],
   "source": [
    "# search for key words\n",
    "search_term = 'data science' \n",
    "driver.find_elements_by_xpath(\".//input[@type='search']\")[1].send_keys(search_term, Keys.ENTER)"
   ]
  },
  {
   "cell_type": "code",
   "execution_count": null,
   "id": "ab53a230",
   "metadata": {},
   "outputs": [],
   "source": [
    "# check for denied access\n",
    "soup = BeautifulSoup(driver.page_source, \"lxml\")\n",
    "soup.title.text == 'Your Access To This Website Has Been Blocked'"
   ]
  },
  {
   "cell_type": "code",
   "execution_count": null,
   "id": "31eb15da",
   "metadata": {},
   "outputs": [],
   "source": [
    "# test for sign-up pop up\n",
    "pop_up = driver.find_elements_by_class_name('sign-up-form')\n",
    "action = ActionChains(driver)\n",
    "if len(pop_up)>0:\n",
    "    action.move_to_element_with_offset(pop_up[0], 700, 0)\n",
    "    action.click()\n",
    "    action.perform()"
   ]
  },
  {
   "cell_type": "code",
   "execution_count": null,
   "id": "594a6d6f",
   "metadata": {},
   "outputs": [],
   "source": [
    "# no. of search results\n",
    "no_of_services = driver.find_element_by_class_name('number-of-results').text\n",
    "no_of_services"
   ]
  },
  {
   "cell_type": "code",
   "execution_count": null,
   "id": "98ed397c",
   "metadata": {},
   "outputs": [],
   "source": [
    "# scroll to botom page\n",
    "js_script = \"window.scrollTo(0, document.body.scrollHeight);var lenOfPage=document.body.scrollHeight;return lenOfPage;\"\n",
    "lenOfPage = driver.execute_script(js_script)\n",
    "match=False\n",
    "while(match==False):\n",
    "    lastCount = lenOfPage\n",
    "    lenOfPage = driver.execute_script(js_script)\n",
    "    if lastCount==lenOfPage:\n",
    "        match=True"
   ]
  },
  {
   "cell_type": "code",
   "execution_count": null,
   "id": "296453eb",
   "metadata": {},
   "outputs": [],
   "source": [
    "# click next page\n",
    "right_arrow = driver.find_elements_by_class_name('pagination-arrows')[-1]\n",
    "right_arrow.click()"
   ]
  },
  {
   "cell_type": "code",
   "execution_count": null,
   "id": "8fb4090d",
   "metadata": {},
   "outputs": [],
   "source": [
    "# get seller information\n",
    "soup = BeautifulSoup(driver.page_source, \"lxml\")\n",
    "gigs = soup.findAll('div', {'class': 'gig-card-layout'})\n",
    "\n",
    "# first seller name and gig url\n",
    "for gig in gigs[:1]:\n",
    "    seller_url = \"https://www.fiverr.com\" + gig.h3.a['href']\n",
    "    seller_name = gig.find('div', {'class': 'seller-name'}).text\n",
    "    print(seller_name, seller_url)    "
   ]
  },
  {
   "cell_type": "code",
   "execution_count": null,
   "id": "28146622",
   "metadata": {
    "scrolled": true
   },
   "outputs": [],
   "source": [
    "# iterate over pages\n",
    "scroll = True\n",
    "\n",
    "while scroll:\n",
    "    # scroll down\n",
    "    js_script = \"window.scrollTo(0, document.body.scrollHeight);var lenOfPage=document.body.scrollHeight;return lenOfPage;\"\n",
    "    lenOfPage = driver.execute_script(js_script)\n",
    "    match=False\n",
    "    while(match==False):\n",
    "        lastCount = lenOfPage\n",
    "        lenOfPage = driver.execute_script(js_script)\n",
    "        if lastCount==lenOfPage:\n",
    "            match=True\n",
    "            \n",
    "    time.sleep(1)\n",
    "            \n",
    "    # click next page\n",
    "    arrows = driver.find_elements_by_class_name('pagination-arrows')\n",
    "    if len(arrows) == 2:\n",
    "        try:\n",
    "            arrows[-1].click()\n",
    "        except:\n",
    "            scroll = False\n",
    "            \n",
    "    else:\n",
    "        scroll = False\n",
    "        \n",
    "    time.sleep(1)\n",
    "        \n",
    "    # get seller information\n",
    "    soup = BeautifulSoup(driver.page_source, \"lxml\")\n",
    "    gigs = soup.findAll('div', {'class': 'gig-card-layout'})\n",
    "    \n",
    "    # print first gig info\n",
    "    for gig in gigs[:1]:\n",
    "        seller_url = \"https://www.fiverr.com\" + gig.h3.a['href']\n",
    "        seller_name = gig.find('div', {'class': 'seller-name'}).text\n",
    "        print(seller_name, seller_url)"
   ]
  },
  {
   "cell_type": "code",
   "execution_count": null,
   "id": "87d2e0e6",
   "metadata": {},
   "outputs": [],
   "source": [
    "driver.quit()"
   ]
  },
  {
   "cell_type": "markdown",
   "id": "6b4aeaef",
   "metadata": {},
   "source": [
    "## 2. testing class"
   ]
  },
  {
   "cell_type": "code",
   "execution_count": 1,
   "id": "cfe66f77",
   "metadata": {},
   "outputs": [],
   "source": [
    "from DS_Fivver_Gigs import *\n",
    "import pandas as pd"
   ]
  },
  {
   "cell_type": "code",
   "execution_count": null,
   "id": "db8dedb7",
   "metadata": {},
   "outputs": [],
   "source": [
    "# initiate web driver\n",
    "driver = FiverrScraper()\n",
    "# ask for keyword\n",
    "search_key_word = 'python tutor'\n",
    "\n",
    "# check for detection\n",
    "driver.check_status()\n",
    "\n",
    "# search for keyword\n",
    "time.sleep(5)\n",
    "driver.apply_search(search_key_word)\n",
    "\n",
    "# check for pop-ups and detection\n",
    "time.sleep(5)\n",
    "driver.check_status()\n",
    "driver.check_popup()"
   ]
  },
  {
   "cell_type": "code",
   "execution_count": 3,
   "id": "8f04a83f",
   "metadata": {},
   "outputs": [],
   "source": [
    "# list for storing gigs info\n",
    "data = list()\n",
    "\n",
    "# scroll through pages\n",
    "while driver.scroll:\n",
    "    data += gig_names(BeautifulSoup(driver.driver.page_source, \"lxml\"))\n",
    "    driver.scroll_down()\n",
    "    driver.click_r_arrow()\n",
    "    time.sleep(2)\n",
    "    driver.check_status()"
   ]
  },
  {
   "cell_type": "code",
   "execution_count": 4,
   "id": "584b8a69",
   "metadata": {},
   "outputs": [
    {
     "data": {
      "text/html": [
       "<div>\n",
       "<style scoped>\n",
       "    .dataframe tbody tr th:only-of-type {\n",
       "        vertical-align: middle;\n",
       "    }\n",
       "\n",
       "    .dataframe tbody tr th {\n",
       "        vertical-align: top;\n",
       "    }\n",
       "\n",
       "    .dataframe thead th {\n",
       "        text-align: right;\n",
       "    }\n",
       "</style>\n",
       "<table border=\"1\" class=\"dataframe\">\n",
       "  <thead>\n",
       "    <tr style=\"text-align: right;\">\n",
       "      <th></th>\n",
       "      <th>Seller_name</th>\n",
       "      <th>Gig_URL</th>\n",
       "    </tr>\n",
       "  </thead>\n",
       "  <tbody>\n",
       "    <tr>\n",
       "      <th>0</th>\n",
       "      <td>pygeek</td>\n",
       "      <td>https://www.fiverr.com/pygeek/fix-any-linux-se...</td>\n",
       "    </tr>\n",
       "    <tr>\n",
       "      <th>1</th>\n",
       "      <td>dogaozgon</td>\n",
       "      <td>https://www.fiverr.com/dogaozgon/tutor-you-in-...</td>\n",
       "    </tr>\n",
       "    <tr>\n",
       "      <th>2</th>\n",
       "      <td>minhalzafarsw06</td>\n",
       "      <td>https://www.fiverr.com/minhalzafarsw06/tutor-h...</td>\n",
       "    </tr>\n",
       "    <tr>\n",
       "      <th>3</th>\n",
       "      <td>araboy24</td>\n",
       "      <td>https://www.fiverr.com/araboy24/be-your-python...</td>\n",
       "    </tr>\n",
       "    <tr>\n",
       "      <th>4</th>\n",
       "      <td>hammad_jafar</td>\n",
       "      <td>https://www.fiverr.com/hammad_jafar/teach-pyth...</td>\n",
       "    </tr>\n",
       "  </tbody>\n",
       "</table>\n",
       "</div>"
      ],
      "text/plain": [
       "       Seller_name                                            Gig_URL\n",
       "0           pygeek  https://www.fiverr.com/pygeek/fix-any-linux-se...\n",
       "1        dogaozgon  https://www.fiverr.com/dogaozgon/tutor-you-in-...\n",
       "2  minhalzafarsw06  https://www.fiverr.com/minhalzafarsw06/tutor-h...\n",
       "3         araboy24  https://www.fiverr.com/araboy24/be-your-python...\n",
       "4     hammad_jafar  https://www.fiverr.com/hammad_jafar/teach-pyth..."
      ]
     },
     "execution_count": 4,
     "metadata": {},
     "output_type": "execute_result"
    }
   ],
   "source": [
    "df_gigs = pd.DataFrame(data, columns=['Seller_name', \"Gig_URL\"])\n",
    "df_gigs.head()"
   ]
  },
  {
   "cell_type": "code",
   "execution_count": 5,
   "id": "d529abb3",
   "metadata": {},
   "outputs": [
    {
     "data": {
      "text/plain": [
       "(191, 2)"
      ]
     },
     "execution_count": 5,
     "metadata": {},
     "output_type": "execute_result"
    }
   ],
   "source": [
    "df_gigs.shape"
   ]
  },
  {
   "cell_type": "code",
   "execution_count": 7,
   "id": "7f19392d",
   "metadata": {},
   "outputs": [],
   "source": [
    "def get_txt(element):\n",
    "    if len(element) >= 1:\n",
    "        return element[0].text\n",
    "    else:\n",
    "        return ''\n",
    "    \n",
    "\n",
    "def seller_info(soup):\n",
    "    gig_name = soup.h1.text\n",
    "    seller_lvl = soup.findAll('div', {'class': 'seller-level'})\n",
    "    one_liner = soup.findAll('p', {'class': 'one-liner'})\n",
    "    review_score = soup.findAll('b', {'class': 'rating-score'})\n",
    "    review_count = soup.findAll('span', {'class': 'ratings-count'})\n",
    "    \n",
    "    # categories\n",
    "    cat = soup.find('div', {'class': 'gig-overview'}).findAll('a', href=True)[:2]\n",
    "    cat = [_.text for _ in cat[:2]]\n",
    "    \n",
    "    # package prices\n",
    "    packages = soup.findAll('div', {'class': 'gig-page-packages-table'})\n",
    "    if len(packages)>0:\n",
    "        prices = [_.text for _ in packages[0].findAll('p', {'class': 'price-label'})]\n",
    "    else:\n",
    "        prices = soup.find('div', {'class': 'package-content'}).findAll('span', {'class': 'price'})\n",
    "        prices = [get_txt(prices), \"\", \"\"]\n",
    "        \n",
    "    # user stats\n",
    "    user_stats = soup.find('ul', {'class': 'user-stats'}).findAll('li')\n",
    "    if len(user_stats) == 4:\n",
    "        user_stats = [_.text for _ in user_stats]\n",
    "        user_stats[0] = user_stats[0][4:]\n",
    "        user_stats[1] = user_stats[1][12:]\n",
    "        user_stats[2] = user_stats[2][18:]\n",
    "        user_stats[3] = user_stats[3][13:]\n",
    "    else:\n",
    "        user_stats = ['', '', '', '']\n",
    "        \n",
    "\n",
    "    return [gig_name, get_txt(seller_lvl), get_txt(one_liner), get_txt(review_score),\n",
    "            get_txt(review_count)] + prices + user_stats + cat"
   ]
  },
  {
   "cell_type": "code",
   "execution_count": 11,
   "id": "2fde4bb0",
   "metadata": {
    "scrolled": true
   },
   "outputs": [
    {
     "name": "stdout",
     "output_type": "stream",
     "text": [
      "191/191 scraped.\n"
     ]
    }
   ],
   "source": [
    "info = list()\n",
    "\n",
    "for idx in df_gigs.index:\n",
    "    gig_url = df_gigs.loc[idx, 'Gig_URL']\n",
    "    driver.driver.get(gig_url)\n",
    "    time.sleep(5)\n",
    "    driver.check_status()\n",
    "    soup = BeautifulSoup(driver.driver.page_source, \"lxml\")\n",
    "    info.append(df_gigs.loc[idx].values.tolist()+seller_info(soup))\n",
    "    clear_output(wait=True)\n",
    "    print(f\"{idx+1}/{df_gigs.shape[0]} scraped.\")"
   ]
  },
  {
   "cell_type": "code",
   "execution_count": 12,
   "id": "e63cf4ab",
   "metadata": {},
   "outputs": [
    {
     "data": {
      "text/html": [
       "<div>\n",
       "<style scoped>\n",
       "    .dataframe tbody tr th:only-of-type {\n",
       "        vertical-align: middle;\n",
       "    }\n",
       "\n",
       "    .dataframe tbody tr th {\n",
       "        vertical-align: top;\n",
       "    }\n",
       "\n",
       "    .dataframe thead th {\n",
       "        text-align: right;\n",
       "    }\n",
       "</style>\n",
       "<table border=\"1\" class=\"dataframe\">\n",
       "  <thead>\n",
       "    <tr style=\"text-align: right;\">\n",
       "      <th></th>\n",
       "      <th>Seller_name</th>\n",
       "      <th>Gig_URL</th>\n",
       "      <th>Gig_name</th>\n",
       "      <th>Seller_lvl</th>\n",
       "      <th>One_liner</th>\n",
       "      <th>Review_score</th>\n",
       "      <th>Review_count</th>\n",
       "      <th>Price_basic</th>\n",
       "      <th>Price_Standard</th>\n",
       "      <th>Price_premium</th>\n",
       "      <th>Origin</th>\n",
       "      <th>Member_since</th>\n",
       "      <th>Response_time</th>\n",
       "      <th>Last_delivery</th>\n",
       "      <th>Cat</th>\n",
       "      <th>SubCat</th>\n",
       "    </tr>\n",
       "  </thead>\n",
       "  <tbody>\n",
       "    <tr>\n",
       "      <th>0</th>\n",
       "      <td>pygeek</td>\n",
       "      <td>https://www.fiverr.com/pygeek/fix-any-linux-se...</td>\n",
       "      <td>I will tutor, help or teach you to code python...</td>\n",
       "      <td>Level 2 Seller</td>\n",
       "      <td>Your very own Python Geek</td>\n",
       "      <td>5</td>\n",
       "      <td>(385)</td>\n",
       "      <td>€8.84</td>\n",
       "      <td>€61.87</td>\n",
       "      <td>€106.06</td>\n",
       "      <td>Pakistan</td>\n",
       "      <td>Dec 2019</td>\n",
       "      <td>1 hour</td>\n",
       "      <td>1 day</td>\n",
       "      <td>Programming &amp; Tech</td>\n",
       "      <td>Online Coding Lessons</td>\n",
       "    </tr>\n",
       "    <tr>\n",
       "      <th>1</th>\n",
       "      <td>dogaozgon</td>\n",
       "      <td>https://www.fiverr.com/dogaozgon/tutor-you-in-...</td>\n",
       "      <td>I will tutor you in python, machine learning a...</td>\n",
       "      <td></td>\n",
       "      <td></td>\n",
       "      <td>5</td>\n",
       "      <td>(4)</td>\n",
       "      <td>€26.52</td>\n",
       "      <td></td>\n",
       "      <td></td>\n",
       "      <td>Canada</td>\n",
       "      <td>Jul 2021</td>\n",
       "      <td>3 hours</td>\n",
       "      <td>1 week</td>\n",
       "      <td>Programming &amp; Tech</td>\n",
       "      <td>Online Coding Lessons</td>\n",
       "    </tr>\n",
       "    <tr>\n",
       "      <th>2</th>\n",
       "      <td>minhalzafarsw06</td>\n",
       "      <td>https://www.fiverr.com/minhalzafarsw06/tutor-h...</td>\n",
       "      <td>I will tutor, help or teach you to code in pyt...</td>\n",
       "      <td></td>\n",
       "      <td></td>\n",
       "      <td>5</td>\n",
       "      <td>(6)</td>\n",
       "      <td>€8.84</td>\n",
       "      <td>€17.68</td>\n",
       "      <td>€44.19</td>\n",
       "      <td>Pakistan</td>\n",
       "      <td>Jun 2021</td>\n",
       "      <td>1 hour</td>\n",
       "      <td>1 day</td>\n",
       "      <td>Programming &amp; Tech</td>\n",
       "      <td>Online Coding Lessons</td>\n",
       "    </tr>\n",
       "    <tr>\n",
       "      <th>3</th>\n",
       "      <td>araboy24</td>\n",
       "      <td>https://www.fiverr.com/araboy24/be-your-python...</td>\n",
       "      <td>I will be your python tutor from beginner to e...</td>\n",
       "      <td></td>\n",
       "      <td>Programmer by Day, Programmer by Night</td>\n",
       "      <td>5</td>\n",
       "      <td>(24)</td>\n",
       "      <td>€8.84</td>\n",
       "      <td>€13.26</td>\n",
       "      <td>€35.35</td>\n",
       "      <td>United States</td>\n",
       "      <td>Jun 2019</td>\n",
       "      <td>1 hour</td>\n",
       "      <td>1 day</td>\n",
       "      <td>Programming &amp; Tech</td>\n",
       "      <td>Online Coding Lessons</td>\n",
       "    </tr>\n",
       "    <tr>\n",
       "      <th>4</th>\n",
       "      <td>hammad_jafar</td>\n",
       "      <td>https://www.fiverr.com/hammad_jafar/teach-pyth...</td>\n",
       "      <td>I will teach python, programming in python,pyt...</td>\n",
       "      <td></td>\n",
       "      <td>Your limitations are what you impose on yourself</td>\n",
       "      <td>5</td>\n",
       "      <td>(7)</td>\n",
       "      <td>€4.42</td>\n",
       "      <td>€13.26</td>\n",
       "      <td>€22.10</td>\n",
       "      <td>Pakistan</td>\n",
       "      <td>Jun 2021</td>\n",
       "      <td>1 hour</td>\n",
       "      <td>about 6 hours</td>\n",
       "      <td>Programming &amp; Tech</td>\n",
       "      <td>Online Coding Lessons</td>\n",
       "    </tr>\n",
       "  </tbody>\n",
       "</table>\n",
       "</div>"
      ],
      "text/plain": [
       "       Seller_name                                            Gig_URL  \\\n",
       "0           pygeek  https://www.fiverr.com/pygeek/fix-any-linux-se...   \n",
       "1        dogaozgon  https://www.fiverr.com/dogaozgon/tutor-you-in-...   \n",
       "2  minhalzafarsw06  https://www.fiverr.com/minhalzafarsw06/tutor-h...   \n",
       "3         araboy24  https://www.fiverr.com/araboy24/be-your-python...   \n",
       "4     hammad_jafar  https://www.fiverr.com/hammad_jafar/teach-pyth...   \n",
       "\n",
       "                                            Gig_name      Seller_lvl  \\\n",
       "0  I will tutor, help or teach you to code python...  Level 2 Seller   \n",
       "1  I will tutor you in python, machine learning a...                   \n",
       "2  I will tutor, help or teach you to code in pyt...                   \n",
       "3  I will be your python tutor from beginner to e...                   \n",
       "4  I will teach python, programming in python,pyt...                   \n",
       "\n",
       "                                          One_liner Review_score Review_count  \\\n",
       "0                        Your very own Python Geek             5        (385)   \n",
       "1                                                              5          (4)   \n",
       "2                                                              5          (6)   \n",
       "3            Programmer by Day, Programmer by Night            5         (24)   \n",
       "4  Your limitations are what you impose on yourself            5          (7)   \n",
       "\n",
       "  Price_basic Price_Standard Price_premium         Origin Member_since  \\\n",
       "0       €8.84         €61.87       €106.06       Pakistan     Dec 2019   \n",
       "1      €26.52                                      Canada     Jul 2021   \n",
       "2       €8.84         €17.68        €44.19       Pakistan     Jun 2021   \n",
       "3       €8.84         €13.26        €35.35  United States     Jun 2019   \n",
       "4       €4.42         €13.26        €22.10       Pakistan     Jun 2021   \n",
       "\n",
       "  Response_time  Last_delivery                 Cat                 SubCat  \n",
       "0        1 hour          1 day  Programming & Tech  Online Coding Lessons  \n",
       "1       3 hours         1 week  Programming & Tech  Online Coding Lessons  \n",
       "2        1 hour          1 day  Programming & Tech  Online Coding Lessons  \n",
       "3        1 hour          1 day  Programming & Tech  Online Coding Lessons  \n",
       "4        1 hour  about 6 hours  Programming & Tech  Online Coding Lessons  "
      ]
     },
     "execution_count": 12,
     "metadata": {},
     "output_type": "execute_result"
    }
   ],
   "source": [
    "df = pd.DataFrame(info, columns=['Seller_name', \"Gig_URL\", 'Gig_name', 'Seller_lvl', 'One_liner',\n",
    "                                 'Review_score', 'Review_count', 'Price_basic', 'Price_Standard', 'Price_premium',\n",
    "                                 'Origin', 'Member_since', 'Response_time', 'Last_delivery', 'Cat', 'SubCat'])\n",
    "\n",
    "df.head()"
   ]
  },
  {
   "cell_type": "code",
   "execution_count": 13,
   "id": "28fb3ebb",
   "metadata": {},
   "outputs": [
    {
     "data": {
      "text/plain": [
       "(191, 16)"
      ]
     },
     "execution_count": 13,
     "metadata": {},
     "output_type": "execute_result"
    }
   ],
   "source": [
    "df.shape"
   ]
  },
  {
   "cell_type": "code",
   "execution_count": 14,
   "id": "293a4651",
   "metadata": {},
   "outputs": [],
   "source": [
    "# df.to_csv('python_tutor_2.csv')"
   ]
  },
  {
   "cell_type": "code",
   "execution_count": 15,
   "id": "4eb0a4b8",
   "metadata": {},
   "outputs": [],
   "source": [
    "driver.driver.quit()"
   ]
  },
  {
   "cell_type": "code",
   "execution_count": null,
   "id": "d1cafe93",
   "metadata": {},
   "outputs": [],
   "source": []
  }
 ],
 "metadata": {
  "kernelspec": {
   "display_name": "Python 3",
   "language": "python",
   "name": "python3"
  },
  "language_info": {
   "codemirror_mode": {
    "name": "ipython",
    "version": 3
   },
   "file_extension": ".py",
   "mimetype": "text/x-python",
   "name": "python",
   "nbconvert_exporter": "python",
   "pygments_lexer": "ipython3",
   "version": "3.8.8"
  }
 },
 "nbformat": 4,
 "nbformat_minor": 5
}
