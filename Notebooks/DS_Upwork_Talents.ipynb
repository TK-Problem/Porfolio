{
 "cells": [
  {
   "cell_type": "code",
   "execution_count": 1,
   "id": "0b9d0411",
   "metadata": {},
   "outputs": [],
   "source": [
    "import requests\n",
    "from requests_html import HTMLSession\n",
    "from bs4 import BeautifulSoup\n",
    "import pandas as pd\n",
    "import numpy as np\n",
    "import time"
   ]
  },
  {
   "cell_type": "markdown",
   "id": "d00886df",
   "metadata": {},
   "source": [
    "## 1. Request data\n",
    "\n",
    "**Upwork** uses **Perimeter** anti-bot services. There is no free API to scrape talent data, page has to be jave script reneder.\n",
    "\n",
    "![Perimeter](images/perimeter.png \"Perimeter\")\n",
    "\n",
    "For this reason I chose to use `Requests-HTML` library to scrape upwork website.\n",
    "\n",
    "https://docs.python-requests.org/projects/requests-html/en/latest/"
   ]
  },
  {
   "cell_type": "markdown",
   "id": "81593460",
   "metadata": {},
   "source": [
    "## 2. step-by-step implementation\n",
    "\n",
    "Using `data science` search url https://www.upwork.com/search/profiles/?q=data%20science ."
   ]
  },
  {
   "cell_type": "code",
   "execution_count": 2,
   "id": "156bdb9c",
   "metadata": {},
   "outputs": [],
   "source": [
    "# request javescripted content\n",
    "\n",
    "url = 'https://www.upwork.com/search/profiles/?q=data%20science'\n",
    "try:\n",
    "    session = HTMLSession()\n",
    "    response = session.get(url)\n",
    "except requests.exceptions.RequestException as e:\n",
    "    print(e)\n",
    "\n",
    "session.close()"
   ]
  },
  {
   "cell_type": "code",
   "execution_count": 3,
   "id": "14b309f4",
   "metadata": {},
   "outputs": [],
   "source": [
    "# create beautifoul soup element\n",
    "\n",
    "soup = BeautifulSoup(response.content, 'html.parser')"
   ]
  },
  {
   "cell_type": "code",
   "execution_count": 4,
   "id": "a1f33d45",
   "metadata": {},
   "outputs": [
    {
     "name": "stdout",
     "output_type": "stream",
     "text": [
      "name: Callum H.\n",
      "\n",
      "title: Data Scientist: quantitative and qualitative data analysis experience\n",
      "\n",
      "country: South Africa\n",
      "\n",
      "rate: $40.00   /hr\n",
      "\n",
      "description:\n",
      "\n",
      "Greetings! I am a data scientist who lives in the R & Shiny ‘Tidyverse’ and it is my mission to extract insight from your data and bring it to life in a clear and meaningful way for you and your customers. \n",
      "\n",
      "I am particularly interested in sentiment analysis and geo-spatial data science projects and draw upon a wide range of environmental and business project experience including demographic surveys, customer classifications, e-commerce data analysis, real-time fraud detection, text mining and telecommunications marketing. I have performed various regression, machine learning and clustering techniques in these roles and bring the results to the fore using the Shiny web framework. \n",
      "\n",
      "I have a wide range of quantitative and qualitative statistical analysis experience and also survey design, research project management, custom and legacy database management, stakeholder engagement and project reporting.\n",
      "\n",
      "\n",
      "earnings: $10k+ earned\n",
      "           Close the tooltip  \n",
      "            11\n",
      "            hourly jobs\n",
      "           \n",
      "            15\n",
      "            fixed-price jobs\n",
      "           \n",
      "            365\n",
      "            hours worked\n",
      "\n",
      "success: 100% Job Success\n",
      "\n",
      "badges: Data Science, Data Mining, Data Cleansing, Data Analysis, Data Scraping, R, SQL, Scientific Research, Scientific Writing, Quantitative Analysis, Natural Language Processing, Machine Learning Model, Statistics, Data Science Consultation, Statistical Modeling\n"
     ]
    }
   ],
   "source": [
    "# iterate over freelancers\n",
    "freelancers = soup.findAll('div', {'class': \"up-card-section up-card-hover\"})\n",
    "\n",
    "freelancer = freelancers[1]\n",
    "\n",
    "name = freelancer.find('div', {'class': 'identity-name'}).text.strip()\n",
    "talent_title = freelancer.find('p', {'class': 'my-0 freelancer-title'}).text.strip()\n",
    "country = freelancer.find('span', {'itemprop': 'country-name'}).text.strip()\n",
    "rate = freelancer.find('div', {'data-qa': 'rate'}).text.strip()\n",
    "description = freelancer.find('div', {'class': 'up-line-clamp-v2-wrapper mb-0'}).text.strip()\n",
    "\n",
    "# some freelancers don't provide public earnings\n",
    "try:\n",
    "    earnings = freelancer.find('div', {'data-qa': 'earnings'}).text.strip()\n",
    "except:\n",
    "    earnings = \"\"\n",
    "\n",
    "# some freelancers havent completed jobs yet\n",
    "try:\n",
    "    success = freelancer.find('span', {'class': 'up-job-success-text'}).text.strip()\n",
    "except:\n",
    "    success = ''\n",
    "    \n",
    "badges = ', '.join([_.text.strip() for _ in freelancer.findAll('div', {'class': 'up-skill-badge'})])\n",
    "    \n",
    "    \n",
    "print(f'name: {name}')\n",
    "print(f'\\ntitle: {talent_title}')\n",
    "print(f'\\ncountry: {country}')\n",
    "print(f'\\nrate: {rate}')\n",
    "print(f'\\ndescription:\\n\\n{description}\\n')\n",
    "print(f'\\nearnings: {earnings}')\n",
    "print(f'\\nsuccess: {success}')\n",
    "print(f'\\nbadges: {badges}')"
   ]
  },
  {
   "cell_type": "code",
   "execution_count": 5,
   "id": "edfdff82",
   "metadata": {},
   "outputs": [
    {
     "name": "stdout",
     "output_type": "stream",
     "text": [
      "data%20science\n",
      "https://www.upwork.com/search/profiles/?page=1&q=data%20science\n"
     ]
    }
   ],
   "source": [
    "# generate quary search\n",
    "search_key_word = 'data science'\n",
    "\n",
    "# replace spaces with %20 signs\n",
    "print(search_key_word.replace(' ', '%20'))\n",
    "# create new url string \n",
    "page = 1\n",
    "url = f'https://www.upwork.com/search/profiles/?page={page}&q=' + search_key_word.replace(' ', '%20')\n",
    "print(url)"
   ]
  },
  {
   "cell_type": "markdown",
   "id": "6391ab4a",
   "metadata": {},
   "source": [
    "## 3. Functions"
   ]
  },
  {
   "cell_type": "code",
   "execution_count": 6,
   "id": "1fa7c0cc",
   "metadata": {},
   "outputs": [],
   "source": [
    "def scrape_js_content(url):\n",
    "    \"\"\"\n",
    "    :param url:\n",
    "    :return:\n",
    "    \"\"\"\n",
    "    try:\n",
    "        session = HTMLSession()\n",
    "        response = session.get(url)\n",
    "    except requests.exceptions.RequestException as e:\n",
    "        print(e)\n",
    "\n",
    "    session.close()\n",
    "\n",
    "    return response.content"
   ]
  },
  {
   "cell_type": "code",
   "execution_count": 7,
   "id": "19d31586",
   "metadata": {},
   "outputs": [],
   "source": [
    "def process_page(soup):\n",
    "    \"\"\"\n",
    "    :param url:\n",
    "    :return:\n",
    "    \"\"\"\n",
    "    freelancers = soup.findAll('div', {'class': \"up-card-section up-card-hover\"})\n",
    "    data = list()\n",
    "    \n",
    "    for freelancer in freelancers:\n",
    "        \n",
    "        name = freelancer.find('div', {'class': 'identity-name'}).text.strip()\n",
    "        talent_title = freelancer.find('p', {'class': 'my-0 freelancer-title'}).text.strip()\n",
    "        country = freelancer.find('span', {'itemprop': 'country-name'}).text.strip()\n",
    "        rate = freelancer.find('div', {'data-qa': 'rate'}).text.strip()\n",
    "        description = freelancer.find('div', {'class': 'up-line-clamp-v2-wrapper mb-0'}).text.strip()\n",
    "\n",
    "        try:\n",
    "            earnings = freelancer.find('div', {'data-qa': 'earnings'}).text.strip()\n",
    "        except:\n",
    "            earnings = \"\"\n",
    "            \n",
    "        try:\n",
    "            success = freelancer.find('span', {'class': 'up-job-success-text'}).text.strip()\n",
    "        except:\n",
    "            success = ''\n",
    "            \n",
    "        badges = ', '.join([_.text.strip() for _ in freelancer.findAll('div', {'class': 'up-skill-badge'})])\n",
    "        \n",
    "        data.append([name, talent_title, country, rate, earnings, success, badges, description])\n",
    "        \n",
    "    return data "
   ]
  },
  {
   "cell_type": "code",
   "execution_count": 8,
   "id": "6fb1e321",
   "metadata": {},
   "outputs": [
    {
     "data": {
      "text/html": [
       "<div>\n",
       "<style scoped>\n",
       "    .dataframe tbody tr th:only-of-type {\n",
       "        vertical-align: middle;\n",
       "    }\n",
       "\n",
       "    .dataframe tbody tr th {\n",
       "        vertical-align: top;\n",
       "    }\n",
       "\n",
       "    .dataframe thead th {\n",
       "        text-align: right;\n",
       "    }\n",
       "</style>\n",
       "<table border=\"1\" class=\"dataframe\">\n",
       "  <thead>\n",
       "    <tr style=\"text-align: right;\">\n",
       "      <th></th>\n",
       "      <th>Name</th>\n",
       "      <th>Title</th>\n",
       "      <th>Country</th>\n",
       "      <th>Rate</th>\n",
       "      <th>Earnings</th>\n",
       "      <th>Success</th>\n",
       "      <th>Badges</th>\n",
       "      <th>Description</th>\n",
       "    </tr>\n",
       "  </thead>\n",
       "  <tbody>\n",
       "    <tr>\n",
       "      <th>0</th>\n",
       "      <td>Ismail T.</td>\n",
       "      <td>Data Strategy Consultant | Data Solutions Expe...</td>\n",
       "      <td>United States</td>\n",
       "      <td>$250.00   /hr</td>\n",
       "      <td>$100k+ earned\\n           Close the tooltip  \\...</td>\n",
       "      <td>99% Job Success</td>\n",
       "      <td>R, Microsoft Excel, Machine Learning, Data Sci...</td>\n",
       "      <td>⭐⭐⭐⭐⭐ 5-Star 𝗧𝗼𝗽 𝗥𝗮𝘁𝗲𝗱 𝗣𝗹𝘂𝘀 Data Professional\\...</td>\n",
       "    </tr>\n",
       "    <tr>\n",
       "      <th>1</th>\n",
       "      <td>Callum H.</td>\n",
       "      <td>Data Scientist: quantitative and qualitative d...</td>\n",
       "      <td>South Africa</td>\n",
       "      <td>$40.00   /hr</td>\n",
       "      <td>$10k+ earned\\n           Close the tooltip  \\n...</td>\n",
       "      <td>100% Job Success</td>\n",
       "      <td>Data Science, Data Mining, Data Cleansing, Dat...</td>\n",
       "      <td>Greetings! I am a data scientist who lives in ...</td>\n",
       "    </tr>\n",
       "    <tr>\n",
       "      <th>2</th>\n",
       "      <td>Mohammed Z.</td>\n",
       "      <td>Data Scientist</td>\n",
       "      <td>United States</td>\n",
       "      <td>$85.00   /hr</td>\n",
       "      <td></td>\n",
       "      <td>100% Job Success</td>\n",
       "      <td>Data Science, Machine Learning, Data Analytics...</td>\n",
       "      <td>Do you need a Data Scientist or a Data Enginee...</td>\n",
       "    </tr>\n",
       "    <tr>\n",
       "      <th>3</th>\n",
       "      <td>Luiz T.</td>\n",
       "      <td>Data Scientist and Machine Learning specialist</td>\n",
       "      <td>Brazil</td>\n",
       "      <td>$85.00   /hr</td>\n",
       "      <td>$40k+ earned\\n           Close the tooltip  \\n...</td>\n",
       "      <td>100% Job Success</td>\n",
       "      <td>Python, Machine Learning, Data Science, Data A...</td>\n",
       "      <td>I am a trained computer scientist passionate a...</td>\n",
       "    </tr>\n",
       "    <tr>\n",
       "      <th>4</th>\n",
       "      <td>Ahmed A.</td>\n",
       "      <td>Machine Learning | Deep Learning | NLP Engineer</td>\n",
       "      <td>Egypt</td>\n",
       "      <td>$60.00   /hr</td>\n",
       "      <td></td>\n",
       "      <td>100% Job Success</td>\n",
       "      <td>Python, Data Science, Scripting, Algorithms, N...</td>\n",
       "      <td>Hello there,\\n\\nThis is Ahmed, a Machine Learn...</td>\n",
       "    </tr>\n",
       "  </tbody>\n",
       "</table>\n",
       "</div>"
      ],
      "text/plain": [
       "          Name                                              Title  \\\n",
       "0    Ismail T.  Data Strategy Consultant | Data Solutions Expe...   \n",
       "1    Callum H.  Data Scientist: quantitative and qualitative d...   \n",
       "2  Mohammed Z.                                     Data Scientist   \n",
       "3      Luiz T.     Data Scientist and Machine Learning specialist   \n",
       "4     Ahmed A.    Machine Learning | Deep Learning | NLP Engineer   \n",
       "\n",
       "         Country           Rate  \\\n",
       "0  United States  $250.00   /hr   \n",
       "1   South Africa   $40.00   /hr   \n",
       "2  United States   $85.00   /hr   \n",
       "3         Brazil   $85.00   /hr   \n",
       "4          Egypt   $60.00   /hr   \n",
       "\n",
       "                                            Earnings           Success  \\\n",
       "0  $100k+ earned\\n           Close the tooltip  \\...   99% Job Success   \n",
       "1  $10k+ earned\\n           Close the tooltip  \\n...  100% Job Success   \n",
       "2                                                     100% Job Success   \n",
       "3  $40k+ earned\\n           Close the tooltip  \\n...  100% Job Success   \n",
       "4                                                     100% Job Success   \n",
       "\n",
       "                                              Badges  \\\n",
       "0  R, Microsoft Excel, Machine Learning, Data Sci...   \n",
       "1  Data Science, Data Mining, Data Cleansing, Dat...   \n",
       "2  Data Science, Machine Learning, Data Analytics...   \n",
       "3  Python, Machine Learning, Data Science, Data A...   \n",
       "4  Python, Data Science, Scripting, Algorithms, N...   \n",
       "\n",
       "                                         Description  \n",
       "0  ⭐⭐⭐⭐⭐ 5-Star 𝗧𝗼𝗽 𝗥𝗮𝘁𝗲𝗱 𝗣𝗹𝘂𝘀 Data Professional\\...  \n",
       "1  Greetings! I am a data scientist who lives in ...  \n",
       "2  Do you need a Data Scientist or a Data Enginee...  \n",
       "3  I am a trained computer scientist passionate a...  \n",
       "4  Hello there,\\n\\nThis is Ahmed, a Machine Learn...  "
      ]
     },
     "execution_count": 8,
     "metadata": {},
     "output_type": "execute_result"
    }
   ],
   "source": [
    "search_key_word = 'data science'\n",
    "\n",
    "data = list()\n",
    "\n",
    "for page in range(1, 2):\n",
    "    url = f'https://www.upwork.com/search/profiles/?page={page}&q=' + search_key_word.replace(' ', '%20')\n",
    "    content = scrape_js_content(url)\n",
    "    soup = BeautifulSoup(content, 'html.parser')\n",
    "    data += process_page(soup)\n",
    "    # explicit wait times\n",
    "    time.sleep(np.random.randint(7, 12)) \n",
    "    \n",
    "    \n",
    "df = pd.DataFrame(data, columns=['Name', 'Title', 'Country', 'Rate', 'Earnings', 'Success', 'Badges', 'Description'])\n",
    "df.head()"
   ]
  },
  {
   "cell_type": "code",
   "execution_count": 9,
   "id": "c52fa15f",
   "metadata": {},
   "outputs": [
    {
     "data": {
      "text/plain": [
       "(10, 8)"
      ]
     },
     "execution_count": 9,
     "metadata": {},
     "output_type": "execute_result"
    }
   ],
   "source": [
    "df.shape"
   ]
  },
  {
   "cell_type": "code",
   "execution_count": null,
   "id": "17651085",
   "metadata": {},
   "outputs": [],
   "source": []
  }
 ],
 "metadata": {
  "kernelspec": {
   "display_name": "Python 3",
   "language": "python",
   "name": "python3"
  },
  "language_info": {
   "codemirror_mode": {
    "name": "ipython",
    "version": 3
   },
   "file_extension": ".py",
   "mimetype": "text/x-python",
   "name": "python",
   "nbconvert_exporter": "python",
   "pygments_lexer": "ipython3",
   "version": "3.8.8"
  }
 },
 "nbformat": 4,
 "nbformat_minor": 5
}
