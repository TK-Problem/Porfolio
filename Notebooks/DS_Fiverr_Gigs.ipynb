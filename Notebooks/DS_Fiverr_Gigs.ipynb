{
 "cells": [
  {
   "cell_type": "code",
   "execution_count": null,
   "id": "fa16c503",
   "metadata": {},
   "outputs": [],
   "source": [
    "from selenium.webdriver import Firefox\n",
    "from selenium.webdriver.common.keys import Keys\n",
    "from selenium.webdriver.common.by import By\n",
    "from selenium.webdriver.common.action_chains import ActionChains\n",
    "\n",
    "from bs4 import BeautifulSoup\n",
    "import time"
   ]
  },
  {
   "cell_type": "markdown",
   "id": "93a2fb04",
   "metadata": {},
   "source": [
    "## 1. Requesting data\n",
    "\n",
    "### 1.1 get seller URLs"
   ]
  },
  {
   "cell_type": "code",
   "execution_count": null,
   "id": "9045197b",
   "metadata": {},
   "outputs": [],
   "source": [
    "driver = Firefox(executable_path=r\"geckodriver.exe\")"
   ]
  },
  {
   "cell_type": "code",
   "execution_count": null,
   "id": "cb14ce85",
   "metadata": {},
   "outputs": [],
   "source": [
    "url = \"https://www.fiverr.com/?source=top_nav\"\n",
    "driver.get(url)"
   ]
  },
  {
   "cell_type": "code",
   "execution_count": null,
   "id": "81251e29",
   "metadata": {},
   "outputs": [],
   "source": [
    "# search for key words\n",
    "search_term = 'data science' \n",
    "driver.find_elements_by_xpath(\".//input[@type='search']\")[1].send_keys(search_term, Keys.ENTER)"
   ]
  },
  {
   "cell_type": "code",
   "execution_count": null,
   "id": "e2310a05",
   "metadata": {},
   "outputs": [],
   "source": [
    "# check for denied access\n",
    "soup = BeautifulSoup(driver.page_source, \"lxml\")\n",
    "soup.title.text == 'Your Access To This Website Has Been Blocked'"
   ]
  },
  {
   "cell_type": "code",
   "execution_count": null,
   "id": "2066c41a",
   "metadata": {},
   "outputs": [],
   "source": [
    "# test for sign-up pop up\n",
    "pop_up = driver.find_elements_by_class_name('sign-up-form')\n",
    "action = ActionChains(driver)\n",
    "if len(pop_up)>0:\n",
    "    action.move_to_element_with_offset(pop_up[0], 700, 0)\n",
    "    action.click()\n",
    "    action.perform()"
   ]
  },
  {
   "cell_type": "code",
   "execution_count": null,
   "id": "5e19f482",
   "metadata": {},
   "outputs": [],
   "source": [
    "# no. of search results\n",
    "no_of_services = driver.find_element_by_class_name('number-of-results').text\n",
    "no_of_services"
   ]
  },
  {
   "cell_type": "code",
   "execution_count": null,
   "id": "0e5c1817",
   "metadata": {},
   "outputs": [],
   "source": [
    "# scroll to botom page\n",
    "js_script = \"window.scrollTo(0, document.body.scrollHeight);var lenOfPage=document.body.scrollHeight;return lenOfPage;\"\n",
    "lenOfPage = driver.execute_script(js_script)\n",
    "match=False\n",
    "while(match==False):\n",
    "    lastCount = lenOfPage\n",
    "    lenOfPage = driver.execute_script(js_script)\n",
    "    if lastCount==lenOfPage:\n",
    "        match=True"
   ]
  },
  {
   "cell_type": "code",
   "execution_count": null,
   "id": "76daa6ca",
   "metadata": {},
   "outputs": [],
   "source": [
    "# click next page\n",
    "right_arrow = driver.find_elements_by_class_name('pagination-arrows')[-1]\n",
    "right_arrow.click()"
   ]
  },
  {
   "cell_type": "code",
   "execution_count": null,
   "id": "a72cf464",
   "metadata": {},
   "outputs": [],
   "source": [
    "right_arrow = driver.find_elements_by_class_name('pagination-arrows')[-1]\n",
    "right_arrow.click()"
   ]
  },
  {
   "cell_type": "code",
   "execution_count": null,
   "id": "55cfb87f",
   "metadata": {},
   "outputs": [],
   "source": [
    "# get seller information\n",
    "soup = BeautifulSoup(driver.page_source, \"lxml\")\n",
    "gigs = soup.findAll('div', {'class': 'gig-card-layout'})\n",
    "\n",
    "for gig in gigs[:1]:\n",
    "    seller_url = \"https://www.fiverr.com\" + gig.h3.a['href']\n",
    "    seller_name = gig.find('div', {'class': 'seller-name'}).text\n",
    "    print(seller_name, url)    "
   ]
  },
  {
   "cell_type": "code",
   "execution_count": null,
   "id": "a532ebb6",
   "metadata": {
    "scrolled": true
   },
   "outputs": [],
   "source": [
    "# iterate over pages\n",
    "scroll = True\n",
    "\n",
    "while scroll:\n",
    "    # scroll down\n",
    "    js_script = \"window.scrollTo(0, document.body.scrollHeight);var lenOfPage=document.body.scrollHeight;return lenOfPage;\"\n",
    "    lenOfPage = driver.execute_script(js_script)\n",
    "    match=False\n",
    "    while(match==False):\n",
    "        lastCount = lenOfPage\n",
    "        lenOfPage = driver.execute_script(js_script)\n",
    "        if lastCount==lenOfPage:\n",
    "            match=True\n",
    "            \n",
    "    time.sleep(1)\n",
    "            \n",
    "    # click next page\n",
    "    arrows = driver.find_elements_by_class_name('pagination-arrows')\n",
    "    if len(arrows) == 2:\n",
    "        try:\n",
    "            arrows[-1].click()\n",
    "        except:\n",
    "            scroll = False\n",
    "            \n",
    "    else:\n",
    "        scroll = False\n",
    "        \n",
    "    time.sleep(1)\n",
    "        \n",
    "    # get seller information\n",
    "    soup = BeautifulSoup(driver.page_source, \"lxml\")\n",
    "    gigs = soup.findAll('div', {'class': 'gig-card-layout'})\n",
    "    \n",
    "    # print first gig info\n",
    "    for gig in gigs[:1]:\n",
    "        seller_url = \"https://www.fiverr.com\" + gig.h3.a['href']\n",
    "        seller_name = gig.find('div', {'class': 'seller-name'}).text\n",
    "        print(seller_name, url)"
   ]
  },
  {
   "cell_type": "code",
   "execution_count": null,
   "id": "72e7f380",
   "metadata": {},
   "outputs": [],
   "source": [
    "driver.quit()"
   ]
  },
  {
   "cell_type": "code",
   "execution_count": null,
   "id": "8fc9453e",
   "metadata": {},
   "outputs": [],
   "source": []
  }
 ],
 "metadata": {
  "kernelspec": {
   "display_name": "Python 3",
   "language": "python",
   "name": "python3"
  },
  "language_info": {
   "codemirror_mode": {
    "name": "ipython",
    "version": 3
   },
   "file_extension": ".py",
   "mimetype": "text/x-python",
   "name": "python",
   "nbconvert_exporter": "python",
   "pygments_lexer": "ipython3",
   "version": "3.8.8"
  }
 },
 "nbformat": 4,
 "nbformat_minor": 5
}
